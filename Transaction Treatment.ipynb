{
 "cells": [
  {
   "cell_type": "markdown",
   "metadata": {},
   "source": [
    "# Transaction Treatment\n",
    "\n",
    "Import transactions and clean up to use with systemm"
   ]
  },
  {
   "cell_type": "code",
   "execution_count": 11,
   "metadata": {},
   "outputs": [],
   "source": [
    "import pandas as pd \n",
    "import numpy as np"
   ]
  },
  {
   "cell_type": "code",
   "execution_count": 12,
   "metadata": {},
   "outputs": [
    {
     "data": {
      "text/html": [
       "<div>\n",
       "<style scoped>\n",
       "    .dataframe tbody tr th:only-of-type {\n",
       "        vertical-align: middle;\n",
       "    }\n",
       "\n",
       "    .dataframe tbody tr th {\n",
       "        vertical-align: top;\n",
       "    }\n",
       "\n",
       "    .dataframe thead th {\n",
       "        text-align: right;\n",
       "    }\n",
       "</style>\n",
       "<table border=\"1\" class=\"dataframe\">\n",
       "  <thead>\n",
       "    <tr style=\"text-align: right;\">\n",
       "      <th></th>\n",
       "      <th>date</th>\n",
       "      <th>description</th>\n",
       "      <th>original description</th>\n",
       "      <th>amount</th>\n",
       "      <th>transaction type</th>\n",
       "      <th>category</th>\n",
       "      <th>account name</th>\n",
       "      <th>labels</th>\n",
       "      <th>notes</th>\n",
       "    </tr>\n",
       "  </thead>\n",
       "  <tbody>\n",
       "    <tr>\n",
       "      <th>0</th>\n",
       "      <td>2020-09-11</td>\n",
       "      <td>Google</td>\n",
       "      <td>GOOGLE SERVICES</td>\n",
       "      <td>9.99</td>\n",
       "      <td>debit</td>\n",
       "      <td>Advertising</td>\n",
       "      <td>Platinum Card</td>\n",
       "      <td>NaN</td>\n",
       "      <td>NaN</td>\n",
       "    </tr>\n",
       "    <tr>\n",
       "      <th>1</th>\n",
       "      <td>2015-05-01</td>\n",
       "      <td>Facebook</td>\n",
       "      <td>FACEBOOK 53WJ28JAG2</td>\n",
       "      <td>21.17</td>\n",
       "      <td>debit</td>\n",
       "      <td>Advertising</td>\n",
       "      <td>CREDIT CARD</td>\n",
       "      <td>NaN</td>\n",
       "      <td>NaN</td>\n",
       "    </tr>\n",
       "    <tr>\n",
       "      <th>2</th>\n",
       "      <td>2017-03-13</td>\n",
       "      <td>Google</td>\n",
       "      <td>GOOGLE *Google Music</td>\n",
       "      <td>9.99</td>\n",
       "      <td>debit</td>\n",
       "      <td>Advertising</td>\n",
       "      <td>CREDIT CARD</td>\n",
       "      <td>NaN</td>\n",
       "      <td>NaN</td>\n",
       "    </tr>\n",
       "    <tr>\n",
       "      <th>3</th>\n",
       "      <td>2019-05-12</td>\n",
       "      <td>Google</td>\n",
       "      <td>GOOGLE *GOOGLE MUSIC855-836-398A0AXO1XC SELLER...</td>\n",
       "      <td>9.99</td>\n",
       "      <td>debit</td>\n",
       "      <td>Advertising</td>\n",
       "      <td>Blue Cash Everyday</td>\n",
       "      <td>NaN</td>\n",
       "      <td>NaN</td>\n",
       "    </tr>\n",
       "    <tr>\n",
       "      <th>4</th>\n",
       "      <td>2019-06-12</td>\n",
       "      <td>Google</td>\n",
       "      <td>GOOGLE *GOOGLE MUSIC855-836-398</td>\n",
       "      <td>9.99</td>\n",
       "      <td>debit</td>\n",
       "      <td>Advertising</td>\n",
       "      <td>Blue Cash Everyday</td>\n",
       "      <td>NaN</td>\n",
       "      <td>NaN</td>\n",
       "    </tr>\n",
       "  </tbody>\n",
       "</table>\n",
       "</div>"
      ],
      "text/plain": [
       "        date description                               original description  \\\n",
       "0 2020-09-11      Google                                    GOOGLE SERVICES   \n",
       "1 2015-05-01    Facebook                                FACEBOOK 53WJ28JAG2   \n",
       "2 2017-03-13      Google                               GOOGLE *Google Music   \n",
       "3 2019-05-12      Google  GOOGLE *GOOGLE MUSIC855-836-398A0AXO1XC SELLER...   \n",
       "4 2019-06-12      Google                    GOOGLE *GOOGLE MUSIC855-836-398   \n",
       "\n",
       "   amount transaction type     category        account name  labels  notes  \n",
       "0    9.99            debit  Advertising       Platinum Card     NaN    NaN  \n",
       "1   21.17            debit  Advertising         CREDIT CARD     NaN    NaN  \n",
       "2    9.99            debit  Advertising         CREDIT CARD     NaN    NaN  \n",
       "3    9.99            debit  Advertising  Blue Cash Everyday     NaN    NaN  \n",
       "4    9.99            debit  Advertising  Blue Cash Everyday     NaN    NaN  "
      ]
     },
     "execution_count": 12,
     "metadata": {},
     "output_type": "execute_result"
    }
   ],
   "source": [
    "# import data\n",
    "raw_trans = pd.read_csv('transactions.csv')\n",
    "raw_trans.columns = [x.lower() for x in raw_trans.columns]\n",
    "raw_trans['date'] = pd.to_datetime(raw_trans['date'])\n",
    "raw_trans.head()"
   ]
  },
  {
   "cell_type": "code",
   "execution_count": 13,
   "metadata": {},
   "outputs": [
    {
     "name": "stdout",
     "output_type": "stream",
     "text": [
      "original length of 8245\n",
      "filtered down to 6196 after filtering for transaction type\n",
      "filtered down to 2243 after filtering for dates after beg of 2018\n",
      "filtered down to 1741 after filtering for dates before end of 2019\n",
      "filtered down to 1209 after filtering for account name\n"
     ]
    }
   ],
   "source": [
    "# filter to credit card debits\n",
    "\n",
    "print ('original length of', len(raw_trans))\n",
    "filtered_trans = raw_trans.copy()\n",
    "\n",
    "filtered_trans = filtered_trans.loc[filtered_trans['transaction type']=='debit']\n",
    "print ('filtered down to', len(filtered_trans), 'after filtering for transaction type')\n",
    "\n",
    "filtered_trans = filtered_trans.loc[filtered_trans['date']>='2018-01-01']\n",
    "print ('filtered down to', len(filtered_trans), 'after filtering for dates after beg of 2018')\n",
    "\n",
    "filtered_trans = filtered_trans.loc[filtered_trans['date']<='2019-12-31']\n",
    "print ('filtered down to', len(filtered_trans), 'after filtering for dates before end of 2019')\n",
    "\n",
    "filtered_trans = filtered_trans.loc[~(filtered_trans['account name'].isin(\n",
    "    ['Essential Checking', 'SAVINGS Account', 'Online Savings']))]\n",
    "print ('filtered down to', len(filtered_trans), 'after filtering for account name')"
   ]
  },
  {
   "cell_type": "code",
   "execution_count": 14,
   "metadata": {},
   "outputs": [
    {
     "data": {
      "text/plain": [
       "CREDIT CARD                                    575\n",
       "CREDITCARD Account                             220\n",
       "Blue Cash Everyday                             168\n",
       "Platinum Card                                  124\n",
       "Bank of America Cash Rewards Visa Signature    122\n",
       "Name: account name, dtype: int64"
      ]
     },
     "execution_count": 14,
     "metadata": {},
     "output_type": "execute_result"
    }
   ],
   "source": [
    "# double check accounts\n",
    "filtered_trans['account name'].value_counts()"
   ]
  },
  {
   "cell_type": "code",
   "execution_count": 15,
   "metadata": {
    "scrolled": true
   },
   "outputs": [
    {
     "data": {
      "text/plain": [
       "Restaurants               417\n",
       "Groceries                 114\n",
       "Fast Food                 104\n",
       "Gas & Fuel                 49\n",
       "Music                      47\n",
       "Shopping                   43\n",
       "Rental Car & Taxi          36\n",
       "Clothing                   32\n",
       "Utilities                  28\n",
       "Coffee Shops               26\n",
       "Alcohol & Bars             26\n",
       "Air Travel                 26\n",
       "Pharmacy                   25\n",
       "Electronics & Software     21\n",
       "Newspapers & Magazines     21\n",
       "Hair                       20\n",
       "Television                 18\n",
       "Movies & DVDs              17\n",
       "Entertainment              13\n",
       "Food & Dining              10\n",
       "Service Fee                10\n",
       "Hotel                       9\n",
       "Business Services           9\n",
       "Advertising                 8\n",
       "Gift                        6\n",
       "Amusement                   5\n",
       "Uncategorized               4\n",
       "Public Transportation       4\n",
       "Travel                      4\n",
       "Office Supplies             4\n",
       "                         ... \n",
       "Credit Card Payment         3\n",
       "Auto Insurance              3\n",
       "Hobbies                     3\n",
       "Sporting Goods              3\n",
       "Parking                     3\n",
       "Auto & Transport            2\n",
       "Cash & ATM                  2\n",
       "Bills & Utilities           2\n",
       "Financial                   2\n",
       "Service & Parts             2\n",
       "Sports                      2\n",
       "Charity                     2\n",
       "Home Insurance              2\n",
       "Home Supplies               2\n",
       "Mobile Phone                2\n",
       "Books                       1\n",
       "Printing                    1\n",
       "Arts                        1\n",
       "Internet                    1\n",
       "Mortgage & Rent             1\n",
       "Bank Fee                    1\n",
       "Personal Care               1\n",
       "Doctor                      1\n",
       "Home Services               1\n",
       "Kids Activities             1\n",
       "Shipping                    1\n",
       "State Tax                   1\n",
       "Taxes                       1\n",
       "Gym                         1\n",
       "Vacation                    1\n",
       "Name: category, Length: 61, dtype: int64"
      ]
     },
     "execution_count": 15,
     "metadata": {},
     "output_type": "execute_result"
    }
   ],
   "source": [
    "# look for categories to combine\n",
    "filtered_trans['category'].value_counts()"
   ]
  },
  {
   "cell_type": "code",
   "execution_count": 16,
   "metadata": {},
   "outputs": [],
   "source": [
    "#create functions to create rudimentary category flags\n",
    "def create_category_flag(df, cat_list):\n",
    "    cat_lower = [x.lower() for x in df['category']]\n",
    "    return flag_helper_vect(cat_lower, cat_list)\n",
    "    \n",
    "def flag_helper(cat, cat_list):\n",
    "    for c in cat_list:\n",
    "        if c in cat:\n",
    "            return 1\n",
    "    return 0\n",
    "flag_helper_vect = np.vectorize(flag_helper, excluded=[1])"
   ]
  },
  {
   "cell_type": "code",
   "execution_count": 17,
   "metadata": {},
   "outputs": [],
   "source": [
    "filtered_trans_v2 = filtered_trans.copy()\n",
    "\n",
    "dining_list = ['restaurant', 'fast food', 'bars', 'dine', 'dining', 'coffee shops']\n",
    "filtered_trans_v2['dining_flag'] = create_category_flag(filtered_trans_v2, dining_list)\n",
    "\n",
    "travel_list = ['gas', 'fuel', 'travel', 'hotel', 'transportation']\n",
    "filtered_trans_v2['travel_flag'] = create_category_flag(filtered_trans_v2, travel_list)\n",
    "\n",
    "drugstore_list = ['pharmacy']\n",
    "filtered_trans_v2['drug store_flag'] = create_category_flag(filtered_trans_v2, drugstore_list)\n",
    "\n",
    "grocery_list = ['grocery', 'groceries', 'super market']\n",
    "filtered_trans_v2['grocery_flag'] = create_category_flag(filtered_trans_v2, grocery_list)\n",
    "\n",
    "entertainment_list = ['entertainment', 'movie', 'amusement', 'sports']\n",
    "filtered_trans_v2['entertainment_flag'] = create_category_flag(filtered_trans_v2, entertainment_list)"
   ]
  },
  {
   "cell_type": "code",
   "execution_count": 18,
   "metadata": {},
   "outputs": [
    {
     "data": {
      "text/html": [
       "<div>\n",
       "<style scoped>\n",
       "    .dataframe tbody tr th:only-of-type {\n",
       "        vertical-align: middle;\n",
       "    }\n",
       "\n",
       "    .dataframe tbody tr th {\n",
       "        vertical-align: top;\n",
       "    }\n",
       "\n",
       "    .dataframe thead th {\n",
       "        text-align: right;\n",
       "    }\n",
       "</style>\n",
       "<table border=\"1\" class=\"dataframe\">\n",
       "  <thead>\n",
       "    <tr style=\"text-align: right;\">\n",
       "      <th></th>\n",
       "      <th></th>\n",
       "      <th></th>\n",
       "      <th></th>\n",
       "      <th></th>\n",
       "      <th>amount</th>\n",
       "    </tr>\n",
       "    <tr>\n",
       "      <th>dining_flag</th>\n",
       "      <th>travel_flag</th>\n",
       "      <th>drug store_flag</th>\n",
       "      <th>grocery_flag</th>\n",
       "      <th>entertainment_flag</th>\n",
       "      <th></th>\n",
       "    </tr>\n",
       "  </thead>\n",
       "  <tbody>\n",
       "    <tr>\n",
       "      <th rowspan=\"5\" valign=\"top\">0</th>\n",
       "      <th rowspan=\"4\" valign=\"top\">0</th>\n",
       "      <th rowspan=\"3\" valign=\"top\">0</th>\n",
       "      <th rowspan=\"2\" valign=\"top\">0</th>\n",
       "      <th>0</th>\n",
       "      <td>22889.71</td>\n",
       "    </tr>\n",
       "    <tr>\n",
       "      <th>1</th>\n",
       "      <td>1521.93</td>\n",
       "    </tr>\n",
       "    <tr>\n",
       "      <th>1</th>\n",
       "      <th>0</th>\n",
       "      <td>2735.23</td>\n",
       "    </tr>\n",
       "    <tr>\n",
       "      <th>1</th>\n",
       "      <th>0</th>\n",
       "      <th>0</th>\n",
       "      <td>318.42</td>\n",
       "    </tr>\n",
       "    <tr>\n",
       "      <th>1</th>\n",
       "      <th>0</th>\n",
       "      <th>0</th>\n",
       "      <th>0</th>\n",
       "      <td>4598.06</td>\n",
       "    </tr>\n",
       "    <tr>\n",
       "      <th>1</th>\n",
       "      <th>0</th>\n",
       "      <th>0</th>\n",
       "      <th>0</th>\n",
       "      <th>0</th>\n",
       "      <td>6183.40</td>\n",
       "    </tr>\n",
       "  </tbody>\n",
       "</table>\n",
       "</div>"
      ],
      "text/plain": [
       "                                                                           amount\n",
       "dining_flag travel_flag drug store_flag grocery_flag entertainment_flag          \n",
       "0           0           0               0            0                   22889.71\n",
       "                                                     1                    1521.93\n",
       "                                        1            0                    2735.23\n",
       "                        1               0            0                     318.42\n",
       "            1           0               0            0                    4598.06\n",
       "1           0           0               0            0                    6183.40"
      ]
     },
     "execution_count": 18,
     "metadata": {},
     "output_type": "execute_result"
    }
   ],
   "source": [
    "filtered_trans_v2.groupby(['dining_flag', 'travel_flag', 'drug store_flag', 'grocery_flag', 'entertainment_flag']).aggregate({'amount':sum})"
   ]
  },
  {
   "cell_type": "code",
   "execution_count": 19,
   "metadata": {},
   "outputs": [
    {
     "data": {
      "text/plain": [
       "dining           583\n",
       "unclassified     358\n",
       "grocery          114\n",
       "travel            92\n",
       "entertainment     37\n",
       "drug store        25\n",
       "Name: category_clean, dtype: int64"
      ]
     },
     "execution_count": 19,
     "metadata": {},
     "output_type": "execute_result"
    }
   ],
   "source": [
    "# combine categories into one column\n",
    "filtered_trans_v2['category_clean'] = 'unclassified'\n",
    "\n",
    "for flag in ['dining_flag', 'travel_flag', 'drug store_flag', 'grocery_flag', 'entertainment_flag']:\n",
    "    cat = flag.split('_flag')[0]\n",
    "    filtered_trans_v2.loc[filtered_trans_v2[flag]==1, 'category_clean'] = cat\n",
    "\n",
    "filtered_trans_v2['category_clean'].value_counts()"
   ]
  },
  {
   "cell_type": "code",
   "execution_count": 47,
   "metadata": {
    "scrolled": true
   },
   "outputs": [],
   "source": [
    "# aggregate to month and flags\n",
    "min_month = filtered_trans_v2['date'].min()\n",
    "filtered_trans_v2['month'] = [(d.year-min_month.year)*12 + d.month - min_month.month for d in filtered_trans_v2['date']]\n",
    "\n",
    "trans_agg = filtered_trans_v2.groupby(['month', 'category_clean']).aggregate({'amount':sum}).reset_index()\n",
    "trans_agg.rename(columns={'category_clean':'category'}, inplace=True)"
   ]
  },
  {
   "cell_type": "code",
   "execution_count": 48,
   "metadata": {},
   "outputs": [],
   "source": [
    "# export\n",
    "trans_agg.to_csv('transactions_clean.csv', index=False)"
   ]
  },
  {
   "cell_type": "code",
   "execution_count": null,
   "metadata": {},
   "outputs": [],
   "source": []
  }
 ],
 "metadata": {
  "kernelspec": {
   "display_name": "Python 3",
   "language": "python",
   "name": "python3"
  },
  "language_info": {
   "codemirror_mode": {
    "name": "ipython",
    "version": 3
   },
   "file_extension": ".py",
   "mimetype": "text/x-python",
   "name": "python",
   "nbconvert_exporter": "python",
   "pygments_lexer": "ipython3",
   "version": "3.7.3"
  }
 },
 "nbformat": 4,
 "nbformat_minor": 2
}
