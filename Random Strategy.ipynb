{
 "cells": [
  {
   "cell_type": "markdown",
   "metadata": {},
   "source": [
    "# Random Strategy\n",
    "\n",
    "Start off with a random strategy of choosing which transactions and cards to open"
   ]
  },
  {
   "cell_type": "code",
   "execution_count": 1,
   "metadata": {},
   "outputs": [],
   "source": [
    "import pandas as pd\n",
    "import numpy as np\n",
    "import json\n",
    "from collections import OrderedDict \n",
    "\n",
    "from Card import Card\n",
    "from User import User"
   ]
  },
  {
   "cell_type": "code",
   "execution_count": 2,
   "metadata": {},
   "outputs": [],
   "source": [
    "# read in data\n",
    "transactions = pd.read_csv('transactions_clean.csv')\n",
    "with open('card_options.json', 'r') as f:\n",
    "    card_options = json.load(f)"
   ]
  },
  {
   "cell_type": "code",
   "execution_count": 3,
   "metadata": {},
   "outputs": [],
   "source": [
    "cards = card_options['cards']"
   ]
  },
  {
   "cell_type": "code",
   "execution_count": 4,
   "metadata": {},
   "outputs": [
    {
     "data": {
      "text/plain": [
       "travel           24\n",
       "unclassified     24\n",
       "dining           24\n",
       "grocery          23\n",
       "entertainment    18\n",
       "drug store       15\n",
       "Name: category, dtype: int64"
      ]
     },
     "execution_count": 4,
     "metadata": {},
     "output_type": "execute_result"
    }
   ],
   "source": [
    "transactions['category'].value_counts()"
   ]
  },
  {
   "cell_type": "code",
   "execution_count": 5,
   "metadata": {},
   "outputs": [],
   "source": [
    "# next steps: \n",
    "# - make sure transactions df has category as a column and is aggregated by month\n",
    "# - run simulation, where i pick a random action for each step\n",
    "# - also need to think of how i know when i need to increment the time.  Maybe that's part of the transactions??"
   ]
  },
  {
   "cell_type": "code",
   "execution_count": 51,
   "metadata": {},
   "outputs": [],
   "source": [
    "state_values = {}\n",
    "# add cards \n",
    "for a1 in [0,1]:\n",
    "    for a2 in [0,1]:    \n",
    "        for a3 in [0,1]:    \n",
    "            for a4 in [0,1]:    \n",
    "                for a5 in [0,1]:    \n",
    "                    for a6 in [0,1]:    \n",
    "                        for a7 in [0,1]:    \n",
    "                            for a8 in [0,1]:  \n",
    "                                for m in range(24):\n",
    "                                    for c in set(transactions['category']):\n",
    "                                        state_values[(a1, a2, a3, a4, a5, a6, a7, a8, m, c)] = 0"
   ]
  },
  {
   "cell_type": "code",
   "execution_count": 72,
   "metadata": {
    "scrolled": true
   },
   "outputs": [],
   "source": [
    "def access_state(sv, step):\n",
    "    k1 = step['Chase Freedom Unlimited']\n",
    "    k2 = step['Chase Freedom Flex']\n",
    "    k3 = step['Chase Sapphire Preferred']\n",
    "    k4 = step['Chase Sapphire Reserve']\n",
    "    k5 = step['Capital One Savor']\n",
    "    k6 = step['Capital One SavorOne']\n",
    "    k7 = step['Capital One Quicksilver']\n",
    "    k8 = step['Capital One Venture']\n",
    "    k9 = step['month']\n",
    "    k10 = step['category']\n",
    "    return sv[(k1, k2, k3, k4, k5, k6, k7, k8, k9, k10)]\n",
    "\n",
    "def update_values(sv, step, value):\n",
    "    k1 = step['Chase Freedom Unlimited']\n",
    "    k2 = step['Chase Freedom Flex']\n",
    "    k3 = step['Chase Sapphire Preferred']\n",
    "    k4 = step['Chase Sapphire Reserve']\n",
    "    k5 = step['Capital One Savor']\n",
    "    k6 = step['Capital One SavorOne']\n",
    "    k7 = step['Capital One Quicksilver']\n",
    "    k8 = step['Capital One Venture']\n",
    "    k9 = step['month']\n",
    "    k10 = step['category']\n",
    "    \n",
    "    sv[(k1, k2, k3, k4, k5, k6, k7, k8, k9, k10)] = sv[(k1, k2, k3, k4, k5, k6, k7, k8, k9, k10)] + .25 * value\n",
    "    \n"
   ]
  },
  {
   "cell_type": "code",
   "execution_count": 85,
   "metadata": {
    "scrolled": true
   },
   "outputs": [],
   "source": [
    "for n in range(1000):\n",
    "    cuml_value = 0    \n",
    "    user = User(cards, transactions)\n",
    "    step_list = []\n",
    "    step_list.append(user.state)\n",
    "    step = user.state\n",
    "    done = user.done\n",
    "    while done == False:\n",
    "        actions = user.next_possible_actions()\n",
    "        max_reward = None\n",
    "        action = None\n",
    "        for a in actions:\n",
    "            r = access_state(state_values, step)\n",
    "            if max_reward is None:\n",
    "                max_rewards = r\n",
    "                action = a\n",
    "            elif max_reward < r:\n",
    "                max_reward = r\n",
    "                action = a\n",
    "                \n",
    "#         action = actions[np.random.randint(0,len(actions))]\n",
    "\n",
    "        step, reward, done = user.step(actions[0])\n",
    "        cuml_value += reward\n",
    "        if done:\n",
    "            break\n",
    "        step_list.append(step.copy())\n",
    "\n",
    "#             print (step)\n",
    "#         print (step)\n",
    "    for i in range(1, len(step_list)-1):\n",
    "        update_values(state_values, step_list[i], cuml_value)"
   ]
  },
  {
   "cell_type": "code",
   "execution_count": 86,
   "metadata": {},
   "outputs": [
    {
     "name": "stdout",
     "output_type": "stream",
     "text": [
      "-9762449.764312608\n",
      "0.0\n",
      "-33367.748217865344\n"
     ]
    }
   ],
   "source": [
    "print(np.min(list(state_values.values())))\n",
    "print(np.max(list(state_values.values())))\n",
    "print(np.mean(list(state_values.values())))"
   ]
  },
  {
   "cell_type": "markdown",
   "metadata": {},
   "source": [
    "# next steps\n",
    "- probably need to reduce states or use a neural network\n",
    "- probably need to use something more complex than a monte carlo, q-learning seems more relevant"
   ]
  },
  {
   "cell_type": "code",
   "execution_count": 88,
   "metadata": {},
   "outputs": [
    {
     "data": {
      "text/plain": [
       "36864"
      ]
     },
     "execution_count": 88,
     "metadata": {},
     "output_type": "execute_result"
    }
   ],
   "source": [
    "len(state_values)"
   ]
  },
  {
   "cell_type": "code",
   "execution_count": null,
   "metadata": {},
   "outputs": [],
   "source": []
  }
 ],
 "metadata": {
  "kernelspec": {
   "display_name": "Python 3",
   "language": "python",
   "name": "python3"
  },
  "language_info": {
   "codemirror_mode": {
    "name": "ipython",
    "version": 3
   },
   "file_extension": ".py",
   "mimetype": "text/x-python",
   "name": "python",
   "nbconvert_exporter": "python",
   "pygments_lexer": "ipython3",
   "version": "3.7.3"
  }
 },
 "nbformat": 4,
 "nbformat_minor": 2
}
