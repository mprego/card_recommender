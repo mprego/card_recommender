{
 "cells": [
  {
   "cell_type": "markdown",
   "metadata": {},
   "source": [
    "# Random Strategy\n",
    "\n",
    "Start off with a random strategy of choosing which transactions and cards to open"
   ]
  },
  {
   "cell_type": "code",
   "execution_count": 1,
   "metadata": {},
   "outputs": [],
   "source": [
    "import pandas as pd\n",
    "import numpy as np\n",
    "import json\n",
    "from Card import Card"
   ]
  },
  {
   "cell_type": "code",
   "execution_count": 11,
   "metadata": {},
   "outputs": [],
   "source": [
    "# read in data\n",
    "transactions = pd.read_csv('transactions.csv')\n",
    "with open('card_options.json', 'r') as f:\n",
    "    card_options = json.load(f)"
   ]
  },
  {
   "cell_type": "code",
   "execution_count": null,
   "metadata": {},
   "outputs": [],
   "source": [
    "# Meta code\n",
    "# build class of user\n",
    "# initiatlize user\n",
    "# go through transactions month by month, starting with card opening, and then with trans categories\n",
    "# randomly choose which card to open (choose arbitrary starting point)\n",
    "# randomly choose which card to put spend on\n",
    "# keep track of rewards (spend) as well as total spend and fees"
   ]
  }
 ],
 "metadata": {
  "kernelspec": {
   "display_name": "Python 3",
   "language": "python",
   "name": "python3"
  },
  "language_info": {
   "codemirror_mode": {
    "name": "ipython",
    "version": 3
   },
   "file_extension": ".py",
   "mimetype": "text/x-python",
   "name": "python",
   "nbconvert_exporter": "python",
   "pygments_lexer": "ipython3",
   "version": "3.7.3"
  }
 },
 "nbformat": 4,
 "nbformat_minor": 2
}
